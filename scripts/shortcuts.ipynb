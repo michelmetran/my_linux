{
 "cells": [
  {
   "cell_type": "markdown",
   "metadata": {},
   "source": [
    "<br>\n",
    "\n",
    "# Introdução\n"
   ]
  },
  {
   "cell_type": "code",
   "execution_count": 63,
   "metadata": {},
   "outputs": [
    {
     "data": {
      "text/plain": [
       "'gsettings'"
      ]
     },
     "execution_count": 63,
     "metadata": {},
     "output_type": "execute_result"
    }
   ],
   "source": [
    "shortcuts = '/usr/bin/gsettings'\n",
    "shortcuts = 'gsettings'\n",
    "shortcuts"
   ]
  },
  {
   "cell_type": "markdown",
   "metadata": {},
   "source": [
    "<br>\n",
    "\n",
    "# Nautilus\n"
   ]
  },
  {
   "cell_type": "code",
   "execution_count": 64,
   "metadata": {},
   "outputs": [
    {
     "name": "stdout",
     "output_type": "stream",
     "text": [
      "true\n"
     ]
    }
   ],
   "source": [
    "!gsettings get org.gnome.nautilus.list-view use-tree-view\n",
    "!gsettings set org.gnome.nautilus.list-view use-tree-view true"
   ]
  },
  {
   "cell_type": "code",
   "execution_count": 65,
   "metadata": {},
   "outputs": [
    {
     "name": "stdout",
     "output_type": "stream",
     "text": [
      "'list-view'\n"
     ]
    }
   ],
   "source": [
    "!gsettings get org.gnome.nautilus.preferences default-folder-viewer\n",
    "!gsettings set org.gnome.nautilus.preferences default-folder-viewer 'list-view'"
   ]
  },
  {
   "cell_type": "code",
   "execution_count": 66,
   "metadata": {},
   "outputs": [
    {
     "name": "stdout",
     "output_type": "stream",
     "text": [
      "true\n"
     ]
    }
   ],
   "source": [
    "!gsettings get org.gtk.Settings.FileChooser sort-directories-first\n",
    "!gsettings set org.gtk.Settings.FileChooser sort-directories-first true"
   ]
  },
  {
   "cell_type": "code",
   "execution_count": 67,
   "metadata": {},
   "outputs": [
    {
     "name": "stdout",
     "output_type": "stream",
     "text": [
      "No such schema “org.gnome.shell.extensions.desktop-icons”\n",
      "No such schema “org.gnome.shell.extensions.desktop-icons”\n"
     ]
    }
   ],
   "source": [
    "# Show Trash\n",
    "!gsettings get org.gnome.shell.extensions.desktop-icons show-trash\n",
    "!gsettings set org.gnome.shell.extensions.desktop-icons show-trash false"
   ]
  },
  {
   "cell_type": "code",
   "execution_count": 68,
   "metadata": {},
   "outputs": [
    {
     "name": "stdout",
     "output_type": "stream",
     "text": [
      "No such schema “org.gnome.shell.extensions.desktop-icons”\n",
      "No such schema “org.gnome.shell.extensions.desktop-icons”\n"
     ]
    }
   ],
   "source": [
    "# Show Home\n",
    "!gsettings get org.gnome.shell.extensions.desktop-icons show-home\n",
    "!gsettings set org.gnome.shell.extensions.desktop-icons show-home false"
   ]
  },
  {
   "cell_type": "code",
   "execution_count": null,
   "metadata": {},
   "outputs": [],
   "source": [
    "# Themes\n",
    "!gsettings get org.gnome.desktop.interface gtk-theme\n",
    "!gsettings set org.gnome.desktop.interface gtk-theme 'Adwaita-dark'"
   ]
  },
  {
   "cell_type": "markdown",
   "metadata": {},
   "source": [
    "<br>\n",
    "\n",
    "# Área de Trabalho\n"
   ]
  },
  {
   "cell_type": "code",
   "execution_count": null,
   "metadata": {},
   "outputs": [],
   "source": [
    "# Tamanho dos ícones na área de trabalho\n",
    "!gsettings range org.gnome.shell.extensions.desktop-icons icon-size\n",
    "!gsettings get org.gnome.shell.extensions.desktop-icons icon-size"
   ]
  },
  {
   "cell_type": "markdown",
   "metadata": {},
   "source": [
    "<br>\n",
    "\n",
    "# Dock\n"
   ]
  },
  {
   "cell_type": "code",
   "execution_count": null,
   "metadata": {},
   "outputs": [],
   "source": [
    "# Tamanho do Dock\n",
    "!gsettings get org.gnome.shell.extensions.dash-to-dock dash-max-icon-size\n",
    "!gsettings set org.gnome.shell.extensions.dash-to-dock dash-max-icon-size 32"
   ]
  },
  {
   "cell_type": "code",
   "execution_count": null,
   "metadata": {},
   "outputs": [],
   "source": [
    "# Extensão do Dock\n",
    "!gsettings get org.gnome.shell.extensions.dash-to-dock extend-height\n",
    "!gsettings set org.gnome.shell.extensions.dash-to-dock extend-height false\n",
    "!gsettings set org.gnome.shell.extensions.dash-to-dock extend-height true"
   ]
  },
  {
   "cell_type": "code",
   "execution_count": null,
   "metadata": {},
   "outputs": [],
   "source": [
    "# Evita que mostre HDs Mounted no dock\n",
    "!gsettings get org.gnome.shell.extensions.dash-to-dock show-mounts\n",
    "!gsettings set org.gnome.shell.extensions.dash-to-dock show-mounts false"
   ]
  },
  {
   "cell_type": "code",
   "execution_count": null,
   "metadata": {},
   "outputs": [],
   "source": [
    "!gsettings get org.gnome.shell.extensions.dash-to-dock click-action\n",
    "!gsettings set org.gnome.shell.extensions.dash-to-dock click-action 'focus-or-previews'\n",
    "!gsettings set org.gnome.shell.extensions.dash-to-dock click-action 'cycle-windows'\n",
    "#!gsettings set org.gnome.shell.extensions.dash-to-dock click-action 'minimize'"
   ]
  },
  {
   "cell_type": "code",
   "execution_count": null,
   "metadata": {},
   "outputs": [],
   "source": [
    "# Set Dock to Monitor 0\n",
    "!gsettings get org.gnome.shell.extensions.dash-to-dock preferred-monitor\n",
    "!gsettings set org.gnome.shell.extensions.dash-to-dock preferred-monitor 0\n",
    "!gsettings set org.gnome.shell.extensions.dash-to-dock preferred-monitor -2"
   ]
  },
  {
   "cell_type": "code",
   "execution_count": null,
   "metadata": {},
   "outputs": [],
   "source": [
    "# Dock em Vários Monitores\n",
    "!gsettings get org.gnome.shell.extensions.dash-to-dock multi-monitor\n",
    "!gsettings set org.gnome.shell.extensions.dash-to-dock multi-monitor false"
   ]
  },
  {
   "cell_type": "code",
   "execution_count": null,
   "metadata": {},
   "outputs": [],
   "source": [
    "!gsettings get org.gnome.shell favorite-apps\n",
    "!gsettings set org.gnome.shell favorite-apps \"['firefox.desktop', 'brave-browser.desktop', 'spotify.desktop', 'org.gnome.Nautilus.desktop', 'org.gnome.gedit.desktop',  'org.gnome.Terminal.desktop', 'jetbrains-pycharm.desktop', 'code.desktop', 'rstudio.desktop']\""
   ]
  },
  {
   "cell_type": "markdown",
   "metadata": {},
   "source": [
    "<br>\n",
    "\n",
    "# Teclado\n"
   ]
  },
  {
   "cell_type": "code",
   "execution_count": null,
   "metadata": {},
   "outputs": [],
   "source": [
    "# Ajusta o padrão do Teclado\n",
    "!gsettings get org.gnome.desktop.input-sources sources\n",
    "!gsettings set org.gnome.desktop.input-sources sources \"[('xkb', 'br')]\""
   ]
  },
  {
   "cell_type": "markdown",
   "metadata": {},
   "source": [
    "<br>\n",
    "\n",
    "# Mouse\n"
   ]
  },
  {
   "cell_type": "code",
   "execution_count": null,
   "metadata": {},
   "outputs": [],
   "source": [
    "!gsettings range org.gnome.desktop.wm.preferences focus-mode\n",
    "!gsettings get org.gnome.desktop.wm.preferences focus-mode"
   ]
  },
  {
   "cell_type": "code",
   "execution_count": null,
   "metadata": {},
   "outputs": [],
   "source": [
    "!gsettings get org.gnome.desktop.peripherals.mouse speed\n",
    "!gsettings range org.gnome.desktop.peripherals.mouse speed\n",
    "!gsettings set org.gnome.desktop.peripherals.mouse speed 0.8"
   ]
  },
  {
   "cell_type": "code",
   "execution_count": null,
   "metadata": {},
   "outputs": [],
   "source": [
    "!gsettings get org.gnome.desktop.interface cursor-size\n",
    "!gsettings set org.gnome.desktop.interface cursor-size 36"
   ]
  },
  {
   "cell_type": "markdown",
   "metadata": {},
   "source": [
    "<br>\n",
    "\n",
    "# gedit\n"
   ]
  },
  {
   "cell_type": "code",
   "execution_count": null,
   "metadata": {},
   "outputs": [],
   "source": [
    "!gsettings get org.gnome.gedit.preferences.editor scheme\n",
    "!gsettings set org.gnome.gedit.preferences.editor scheme cobalt"
   ]
  },
  {
   "cell_type": "markdown",
   "metadata": {},
   "source": [
    "<br>\n",
    "\n",
    "# Shortcuts\n",
    "\n",
    "O Ubuntu possibilita a criação de teclas de atalho que facilitam o uso do PC. Além de atalhos para programas, é possível uma infinidade de possibilidades com as teclas de atalho.\n",
    "\n",
    "Como uso muito códigos em _python_, que quero roda-los várias vezes ao dia, por exemplo, é possível colocar o código de _python_ na tecla de atalho.\n"
   ]
  },
  {
   "cell_type": "code",
   "execution_count": null,
   "metadata": {},
   "outputs": [],
   "source": [
    "# Conflito do Anaconda com dconf!\n",
    "\n",
    "#https://askubuntu.com/questions/558446/my-dconf-gsettings-installation-is-broken-how-can-i-fix-it-without-ubuntu-reins\n",
    "#https://unix.stackexchange.com/questions/570053/dconf-editor-value-is-different-from-gsettings-get-value"
   ]
  },
  {
   "cell_type": "markdown",
   "metadata": {},
   "source": [
    "<br>\n",
    "\n",
    "## Applications\n",
    "\n",
    "Adicionar tecla de atalho para o Terminal (equivalente do cmd)\n"
   ]
  },
  {
   "cell_type": "code",
   "execution_count": 69,
   "metadata": {},
   "outputs": [
    {
     "name": "stdout",
     "output_type": "stream",
     "text": [
      "['<Super>r']\n",
      "['<Super>r']\n"
     ]
    }
   ],
   "source": [
    "# Terminal\n",
    "!gsettings get org.gnome.settings-daemon.plugins.media-keys terminal\n",
    "!gsettings set org.gnome.settings-daemon.plugins.media-keys terminal \"['<Super>r']\"\n",
    "!gsettings get org.gnome.settings-daemon.plugins.media-keys terminal"
   ]
  },
  {
   "cell_type": "markdown",
   "metadata": {},
   "source": [
    "<br>\n",
    "\n",
    "Adicionar tecla de atalho para o Nautilus (equivalente do Windows Explorer)\n"
   ]
  },
  {
   "cell_type": "code",
   "execution_count": 70,
   "metadata": {},
   "outputs": [
    {
     "name": "stdout",
     "output_type": "stream",
     "text": [
      "['<Super>e']\n",
      "['<Super>e']\n"
     ]
    }
   ],
   "source": [
    "!gsettings get org.gnome.settings-daemon.plugins.media-keys home\n",
    "!gsettings set org.gnome.settings-daemon.plugins.media-keys home \"['<Super>e']\"\n",
    "!gsettings get org.gnome.settings-daemon.plugins.media-keys home"
   ]
  },
  {
   "cell_type": "markdown",
   "metadata": {},
   "source": [
    "<br>\n",
    "\n",
    "## Custom Shortcuts\n",
    "\n",
    "Inicialmente é necessário \"criar\" um custom keybinds (custom0, custom1, custom2...)\n"
   ]
  },
  {
   "cell_type": "code",
   "execution_count": null,
   "metadata": {},
   "outputs": [],
   "source": [
    "!gsettings get org.gnome.settings-daemon.plugins.media-keys custom-keybindings\n",
    "!gsettings set org.gnome.settings-daemon.plugins.media-keys custom-keybindings \"['/org/gnome/settings-daemon/plugins/media-keys/custom-keybindings/custom0/']\""
   ]
  },
  {
   "cell_type": "code",
   "execution_count": null,
   "metadata": {},
   "outputs": [],
   "source": [
    "!gsettings set \\\n",
    "org.gnome.settings-daemon.plugins.media-keys.custom-keybinding:/org/gnome/settings-daemon/plugins/media-keys/custom-keybindings/custom0/ \\\n",
    "binding \"'<Super>j'\"\n",
    "\n",
    "!gsettings set \\\n",
    "org.gnome.settings-daemon.plugins.media-keys.custom-keybinding:/org/gnome/settings-daemon/plugins/media-keys/custom-keybindings/custom0/ \\\n",
    "name \"'Jupyter'\""
   ]
  },
  {
   "cell_type": "markdown",
   "metadata": {},
   "source": [
    "<br>\n",
    "\n",
    "### Programas\n",
    "\n",
    "Adicionar programa que se abre na linha de comando\n"
   ]
  },
  {
   "cell_type": "code",
   "execution_count": null,
   "metadata": {},
   "outputs": [],
   "source": [
    "!gsettings set \\\n",
    "org.gnome.settings-daemon.plugins.media-keys.custom-keybinding:/org/gnome/settings-daemon/plugins/media-keys/custom-keybindings/custom0/ \\\n",
    "command \"'spotify'\""
   ]
  },
  {
   "cell_type": "markdown",
   "metadata": {},
   "source": [
    "<br>\n",
    "\n",
    "### Command\n",
    "\n",
    "Roda _command_ bash com visualização\n"
   ]
  },
  {
   "cell_type": "code",
   "execution_count": null,
   "metadata": {},
   "outputs": [],
   "source": [
    "!gsettings set \\\n",
    "org.gnome.settings-daemon.plugins.media-keys.custom-keybinding:/org/gnome/settings-daemon/plugins/media-keys/custom-keybindings/custom0/ \\\n",
    "command \"gnome-terminal -- bash -c 'echo Monkey; read line'\""
   ]
  },
  {
   "cell_type": "markdown",
   "metadata": {},
   "source": [
    "<br>\n",
    "\n",
    "### Python\n",
    "\n",
    "Roda _script_ python sem visualização\n"
   ]
  },
  {
   "cell_type": "code",
   "execution_count": null,
   "metadata": {},
   "outputs": [],
   "source": [
    "!gsettings set \\\n",
    "org.gnome.settings-daemon.plugins.media-keys.custom-keybinding:/org/gnome/settings-daemon/plugins/media-keys/custom-keybindings/custom0/ \\\n",
    "command \"gnome-terminal -- python3 $HOME/Codes/my_knowledge/linguagem/python/test.py\""
   ]
  },
  {
   "cell_type": "markdown",
   "metadata": {},
   "source": [
    "<br>\n",
    "\n",
    "Roda _script_ python com visualização\n"
   ]
  },
  {
   "cell_type": "code",
   "execution_count": null,
   "metadata": {},
   "outputs": [],
   "source": [
    "!gsettings set \\\n",
    "org.gnome.settings-daemon.plugins.media-keys.custom-keybinding:/org/gnome/settings-daemon/plugins/media-keys/custom-keybindings/custom0/ \\\n",
    "command \"gnome-terminal -- bash -c 'python3 $HOME/Codes/open_traquitanas/linguagem/python/src/test.py; read line'\""
   ]
  },
  {
   "cell_type": "markdown",
   "metadata": {},
   "source": [
    "<br>\n",
    "\n",
    "Jupyter Notebook, convert e roda\n"
   ]
  },
  {
   "cell_type": "code",
   "execution_count": null,
   "metadata": {},
   "outputs": [],
   "source": [
    "!gsettings set \\\n",
    "org.gnome.settings-daemon.plugins.media-keys.custom-keybinding:/org/gnome/settings-daemon/plugins/media-keys/custom-keybindings/custom0/ \\\n",
    "command \"gnome-terminal -- bash -c '$HOME/Codes/open_traquitanas/linguagem/sh/convert_jn.sh $HOME/Codes/open_dsa/linguagem/python/test/plataform.ipynb; bash'\""
   ]
  },
  {
   "cell_type": "markdown",
   "metadata": {},
   "source": [
    "<br>\n",
    "\n",
    "## Meus Atalhos\n"
   ]
  },
  {
   "cell_type": "code",
   "execution_count": null,
   "metadata": {},
   "outputs": [],
   "source": [
    "!gsettings get org.gnome.settings-daemon.plugins.media-keys custom-keybindings\n",
    "!gsettings set org.gnome.settings-daemon.plugins.media-keys custom-keybindings \"['/org/gnome/settings-daemon/plugins/media-keys/custom-keybindings/custom0/', '/org/gnome/settings-daemon/plugins/media-keys/custom-keybindings/custom1/', '/org/gnome/settings-daemon/plugins/media-keys/custom-keybindings/custom2/']\""
   ]
  },
  {
   "cell_type": "markdown",
   "metadata": {},
   "source": [
    "<br>\n",
    "\n",
    "### Jupyter\n"
   ]
  },
  {
   "cell_type": "code",
   "execution_count": null,
   "metadata": {},
   "outputs": [],
   "source": [
    "!gsettings set \\\n",
    "org.gnome.settings-daemon.plugins.media-keys.custom-keybinding:/org/gnome/settings-daemon/plugins/media-keys/custom-keybindings/custom0/ \\\n",
    "binding \"'<Super>j'\"\n",
    "\n",
    "!gsettings set \\\n",
    "org.gnome.settings-daemon.plugins.media-keys.custom-keybinding:/org/gnome/settings-daemon/plugins/media-keys/custom-keybindings/custom0/ \\\n",
    "name \"'Jupyter'\"\n",
    "\n",
    "!gsettings set \\\n",
    "org.gnome.settings-daemon.plugins.media-keys.custom-keybinding:/org/gnome/settings-daemon/plugins/media-keys/custom-keybindings/custom0/ \\\n",
    "command \"gnome-terminal -- bash -c '$HOME/Codes/open_traquitanas/linguagem/sh/open_jn.sh; bash'\""
   ]
  },
  {
   "cell_type": "markdown",
   "metadata": {},
   "source": [
    "<br>\n",
    "\n",
    "### HotMilhas\n"
   ]
  },
  {
   "cell_type": "code",
   "execution_count": null,
   "metadata": {},
   "outputs": [],
   "source": [
    "!gsettings set \\\n",
    "org.gnome.settings-daemon.plugins.media-keys.custom-keybinding:/org/gnome/settings-daemon/plugins/media-keys/custom-keybindings/custom1/ \\\n",
    "binding \"'<Super>k'\"\n",
    "\n",
    "!gsettings set \\\n",
    "org.gnome.settings-daemon.plugins.media-keys.custom-keybinding:/org/gnome/settings-daemon/plugins/media-keys/custom-keybindings/custom1/ \\\n",
    "name \"'Hotmilhas'\"\n",
    "\n",
    "!gsettings set \\\n",
    "org.gnome.settings-daemon.plugins.media-keys.custom-keybinding:/org/gnome/settings-daemon/plugins/media-keys/custom-keybindings/custom1/ \\\n",
    "command \"gnome-terminal -- bash -c 'source ~/Documents/Conda/etc/profile.d/conda.sh; conda activate pablocarreira-py39; python3 $HOME/Codes/open_cash/hotmilhas/main.py; read line'\""
   ]
  },
  {
   "cell_type": "markdown",
   "metadata": {},
   "source": [
    "<br>\n",
    "\n",
    "### Google Cloud\n"
   ]
  },
  {
   "cell_type": "code",
   "execution_count": null,
   "metadata": {},
   "outputs": [],
   "source": [
    "!gsettings set \\\n",
    "org.gnome.settings-daemon.plugins.media-keys.custom-keybinding:/org/gnome/settings-daemon/plugins/media-keys/custom-keybindings/custom2/ \\\n",
    "binding \"'<Super>g'\"\n",
    "\n",
    "!gsettings set \\\n",
    "org.gnome.settings-daemon.plugins.media-keys.custom-keybinding:/org/gnome/settings-daemon/plugins/media-keys/custom-keybindings/custom2/ \\\n",
    "name \"'Google Cloud'\"\n",
    "\n",
    "!gsettings set \\\n",
    "org.gnome.settings-daemon.plugins.media-keys.custom-keybinding:/org/gnome/settings-daemon/plugins/media-keys/custom-keybindings/custom2/ \\\n",
    "command \"gnome-terminal -- bash -c '$HOME/Codes/open_dsa/linguagem/sh/google-drive-ocamlfuse.sh'\""
   ]
  },
  {
   "cell_type": "markdown",
   "metadata": {},
   "source": [
    "<br>\n",
    "\n",
    "# Reset\n"
   ]
  },
  {
   "cell_type": "code",
   "execution_count": null,
   "metadata": {},
   "outputs": [],
   "source": [
    "#dconf reset -f /org/gnome/settings-daemon/plugins/media-keys/"
   ]
  },
  {
   "cell_type": "code",
   "execution_count": null,
   "metadata": {},
   "outputs": [],
   "source": [
    "#!dconf dump /org/gnome/settings-daemon/plugins/media-keys/ > bkp.txt"
   ]
  },
  {
   "cell_type": "markdown",
   "metadata": {
    "pycharm": {
     "name": "#%% md\n"
    }
   },
   "source": [
    "<br>\n",
    "\n",
    "# Referências\n",
    "\n",
    "- https://bbs.archlinux.org/viewtopic.php?id=165485\n"
   ]
  }
 ],
 "metadata": {
  "kernelspec": {
   "display_name": "Python 3.9.13 ('pablocarreira-py39')",
   "language": "python",
   "name": "python3"
  },
  "language_info": {
   "codemirror_mode": {
    "name": "ipython",
    "version": 3
   },
   "file_extension": ".py",
   "mimetype": "text/x-python",
   "name": "python",
   "nbconvert_exporter": "python",
   "pygments_lexer": "ipython3",
   "version": "3.9.13"
  },
  "toc-autonumbering": true,
  "vscode": {
   "interpreter": {
    "hash": "397a8db9a99587ebc9659e575e97c3dbc03b7cdbd9bc181d706cc19eab1087ed"
   }
  }
 },
 "nbformat": 4,
 "nbformat_minor": 4
}
