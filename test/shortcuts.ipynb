{
 "cells": [
  {
   "cell_type": "markdown",
   "metadata": {},
   "source": [
    "<br>\n",
    "\n",
    "# Nautilus"
   ]
  },
  {
   "cell_type": "code",
   "execution_count": null,
   "metadata": {},
   "outputs": [],
   "source": [
    "!/usr/bin/gsettings get org.gnome.nautilus.list-view use-tree-view\n",
    "!/usr/bin/gsettings set org.gnome.nautilus.list-view use-tree-view true"
   ]
  },
  {
   "cell_type": "code",
   "execution_count": null,
   "metadata": {},
   "outputs": [],
   "source": [
    "!/usr/bin/gsettings get org.gnome.nautilus.preferences default-folder-viewer\n",
    "!/usr/bin/gsettings set org.gnome.nautilus.preferences default-folder-viewer 'list-view'"
   ]
  },
  {
   "cell_type": "code",
   "execution_count": null,
   "metadata": {},
   "outputs": [],
   "source": [
    "!/usr/bin/gsettings get org.gtk.Settings.FileChooser sort-directories-first\n",
    "!/usr/bin/gsettings set org.gtk.Settings.FileChooser sort-directories-first true"
   ]
  },
  {
   "cell_type": "code",
   "execution_count": null,
   "metadata": {},
   "outputs": [],
   "source": [
    "!/usr/bin/gsettings get org.gnome.shell.extensions.desktop-icons show-trash\n",
    "!/usr/bin/gsettings set org.gnome.shell.extensions.desktop-icons show-trash false"
   ]
  },
  {
   "cell_type": "code",
   "execution_count": null,
   "metadata": {},
   "outputs": [],
   "source": [
    "!/usr/bin/gsettings get org.gnome.shell.extensions.desktop-icons show-home\n",
    "!/usr/bin/gsettings set org.gnome.shell.extensions.desktop-icons show-home false"
   ]
  },
  {
   "cell_type": "code",
   "execution_count": null,
   "metadata": {},
   "outputs": [],
   "source": [
    "# Themes\n",
    "!/usr/bin/gsettings get org.gnome.desktop.interface gtk-theme\n",
    "!/usr/bin/gsettings set org.gnome.desktop.interface gtk-theme 'Adwaita-dark'"
   ]
  },
  {
   "cell_type": "markdown",
   "metadata": {},
   "source": [
    "<br>\n",
    "\n",
    "# Área de Trabalho"
   ]
  },
  {
   "cell_type": "code",
   "execution_count": null,
   "metadata": {},
   "outputs": [],
   "source": [
    "# Tamanho dos ícones na área de trabalho\n",
    "!/usr/bin/gsettings range org.gnome.shell.extensions.desktop-icons icon-size\n",
    "!/usr/bin/gsettings get org.gnome.shell.extensions.desktop-icons icon-size"
   ]
  },
  {
   "cell_type": "markdown",
   "metadata": {},
   "source": [
    "<br>\n",
    "\n",
    "# Dock"
   ]
  },
  {
   "cell_type": "code",
   "execution_count": null,
   "metadata": {},
   "outputs": [],
   "source": [
    "# Tamanho do Dock\n",
    "!/usr/bin/gsettings get org.gnome.shell.extensions.dash-to-dock dash-max-icon-size\n",
    "!/usr/bin/gsettings set org.gnome.shell.extensions.dash-to-dock dash-max-icon-size 32"
   ]
  },
  {
   "cell_type": "code",
   "execution_count": null,
   "metadata": {},
   "outputs": [],
   "source": [
    "# Extensão do Dock\n",
    "!/usr/bin/gsettings get org.gnome.shell.extensions.dash-to-dock extend-height\n",
    "#!/usr/bin/gsettings set org.gnome.shell.extensions.dash-to-dock extend-height false\n",
    "!/usr/bin/gsettings set org.gnome.shell.extensions.dash-to-dock extend-height true"
   ]
  },
  {
   "cell_type": "code",
   "execution_count": null,
   "metadata": {},
   "outputs": [],
   "source": [
    "# Evita que mostre HDs Mounted no dock\n",
    "!/usr/bin/gsettings get org.gnome.shell.extensions.dash-to-dock show-mounts\n",
    "!/usr/bin/gsettings set org.gnome.shell.extensions.dash-to-dock show-mounts false"
   ]
  },
  {
   "cell_type": "code",
   "execution_count": null,
   "metadata": {},
   "outputs": [],
   "source": [
    "!/usr/bin/gsettings get org.gnome.shell.extensions.dash-to-dock click-action\n",
    "!/usr/bin/gsettings set org.gnome.shell.extensions.dash-to-dock click-action 'focus-or-previews'\n",
    "!/usr/bin/gsettings set org.gnome.shell.extensions.dash-to-dock click-action 'minimize'"
   ]
  },
  {
   "cell_type": "code",
   "execution_count": null,
   "metadata": {},
   "outputs": [],
   "source": [
    "# Set Dock to Monitor 0\n",
    "!/usr/bin/gsettings get org.gnome.shell.extensions.dash-to-dock preferred-monitor\n",
    "!/usr/bin/gsettings set org.gnome.shell.extensions.dash-to-dock preferred-monitor 0"
   ]
  },
  {
   "cell_type": "code",
   "execution_count": null,
   "metadata": {},
   "outputs": [],
   "source": [
    "# Dock em Vários Monitores\n",
    "!/usr/bin/gsettings get org.gnome.shell.extensions.dash-to-dock multi-monitor\n",
    "!/usr/bin/gsettings set org.gnome.shell.extensions.dash-to-dock multi-monitor false"
   ]
  },
  {
   "cell_type": "code",
   "execution_count": null,
   "metadata": {},
   "outputs": [],
   "source": [
    "!/usr/bin/gsettings get org.gnome.shell favorite-apps\n",
    "!/usr/bin/gsettings set org.gnome.shell favorite-apps \"['firefox.desktop', 'brave-browser.desktop', 'spotify.desktop', 'org.gnome.Nautilus.desktop', 'org.gnome.gedit.desktop',  'org.gnome.Terminal.desktop', 'jetbrains-pycharm.desktop', 'code.desktop', 'rstudio.desktop']\""
   ]
  },
  {
   "cell_type": "markdown",
   "metadata": {},
   "source": [
    "<br>\n",
    "\n",
    "# Teclado"
   ]
  },
  {
   "cell_type": "code",
   "execution_count": null,
   "metadata": {},
   "outputs": [],
   "source": [
    "# Ajusta o padrão do Teclado\n",
    "!/usr/bin/gsettings get org.gnome.desktop.input-sources sources\n",
    "!/usr/bin/gsettings set org.gnome.desktop.input-sources sources \"[('xkb', 'br')]\""
   ]
  },
  {
   "cell_type": "markdown",
   "metadata": {},
   "source": [
    "<br>\n",
    "\n",
    "# Mouse"
   ]
  },
  {
   "cell_type": "code",
   "execution_count": null,
   "metadata": {},
   "outputs": [],
   "source": [
    "!/usr/bin/gsettings range org.gnome.desktop.wm.preferences focus-mode\n",
    "!/usr/bin/gsettings get org.gnome.desktop.wm.preferences focus-mode"
   ]
  },
  {
   "cell_type": "code",
   "execution_count": null,
   "metadata": {},
   "outputs": [],
   "source": [
    "!/usr/bin/gsettings get org.gnome.desktop.peripherals.mouse speed\n",
    "!/usr/bin/gsettings range org.gnome.desktop.peripherals.mouse speed\n",
    "!/usr/bin/gsettings set org.gnome.desktop.peripherals.mouse speed 0.8"
   ]
  },
  {
   "cell_type": "code",
   "execution_count": null,
   "metadata": {},
   "outputs": [],
   "source": [
    "!/usr/bin/gsettings get org.gnome.desktop.interface cursor-size\n",
    "!/usr/bin/gsettings set org.gnome.desktop.interface cursor-size 36"
   ]
  },
  {
   "cell_type": "markdown",
   "metadata": {},
   "source": [
    "<br>\n",
    "\n",
    "# gedit"
   ]
  },
  {
   "cell_type": "code",
   "execution_count": null,
   "metadata": {},
   "outputs": [],
   "source": [
    "!/usr/bin/gsettings get org.gnome.gedit.preferences.editor scheme\n",
    "!/usr/bin/gsettings set org.gnome.gedit.preferences.editor scheme cobalt"
   ]
  },
  {
   "cell_type": "markdown",
   "metadata": {},
   "source": [
    "<br>\n",
    "\n",
    "# Shortcuts\n",
    "\n",
    "O Ubuntu possibilita a criação de teclas de atalho que facilitam o uso do PC. Além de atalhos para programas, é possível uma infinidade de possibilidades com as teclas de atalho.\n",
    "\n",
    "Como uso muito códigos em *python*, que quero roda-los várias vezes ao dia, por exemplo, é possível colocar o código de *python* na tecla de atalho."
   ]
  },
  {
   "cell_type": "code",
   "execution_count": null,
   "metadata": {},
   "outputs": [],
   "source": [
    "# Conflito do Anaconda com dconf!\n",
    "\n",
    "#https://askubuntu.com/questions/558446/my-dconf-gsettings-installation-is-broken-how-can-i-fix-it-without-ubuntu-reins\n",
    "#https://unix.stackexchange.com/questions/570053/dconf-editor-value-is-different-from-gsettings-get-value"
   ]
  },
  {
   "cell_type": "markdown",
   "metadata": {},
   "source": [
    "<br>\n",
    "\n",
    "## Applications\n",
    "\n",
    "Adicionar tecla de atalho para o Terminal (equivalente do cmd)"
   ]
  },
  {
   "cell_type": "code",
   "execution_count": null,
   "metadata": {},
   "outputs": [],
   "source": [
    "!/usr/bin/gsettings get org.gnome.settings-daemon.plugins.media-keys terminal\n",
    "!/usr/bin/gsettings set org.gnome.settings-daemon.plugins.media-keys terminal \"['<Super>r']\"\n",
    "!/usr/bin/gsettings get org.gnome.settings-daemon.plugins.media-keys terminal"
   ]
  },
  {
   "cell_type": "markdown",
   "metadata": {},
   "source": [
    "<br>\n",
    "\n",
    "Adicionar tecla de atalho para o Nautilus (equivalente do Windows Explorer)"
   ]
  },
  {
   "cell_type": "code",
   "execution_count": null,
   "metadata": {},
   "outputs": [],
   "source": [
    "!/usr/bin/gsettings get org.gnome.settings-daemon.plugins.media-keys home\n",
    "!/usr/bin/gsettings set org.gnome.settings-daemon.plugins.media-keys home \"['<Super>e']\"\n",
    "!/usr/bin/gsettings get org.gnome.settings-daemon.plugins.media-keys home"
   ]
  },
  {
   "cell_type": "markdown",
   "metadata": {},
   "source": [
    "<br>\n",
    "\n",
    "## Custom Shortcuts\n",
    "\n",
    "Inicialmente é necessário \"criar\" um custom keybinds (custom0, custom1, custom2...)"
   ]
  },
  {
   "cell_type": "code",
   "execution_count": null,
   "metadata": {},
   "outputs": [],
   "source": [
    "!/usr/bin/gsettings get org.gnome.settings-daemon.plugins.media-keys custom-keybindings\n",
    "!/usr/bin/gsettings set org.gnome.settings-daemon.plugins.media-keys custom-keybindings \"['/org/gnome/settings-daemon/plugins/media-keys/custom-keybindings/custom0/']\""
   ]
  },
  {
   "cell_type": "code",
   "execution_count": null,
   "metadata": {},
   "outputs": [],
   "source": [
    "!/usr/bin/gsettings set \\\n",
    "org.gnome.settings-daemon.plugins.media-keys.custom-keybinding:/org/gnome/settings-daemon/plugins/media-keys/custom-keybindings/custom0/ \\\n",
    "binding \"'<Super>j'\"\n",
    "\n",
    "!/usr/bin/gsettings set \\\n",
    "org.gnome.settings-daemon.plugins.media-keys.custom-keybinding:/org/gnome/settings-daemon/plugins/media-keys/custom-keybindings/custom0/ \\\n",
    "name \"'Jupyter'\""
   ]
  },
  {
   "cell_type": "markdown",
   "metadata": {},
   "source": [
    "<br>\n",
    "\n",
    "### Programas\n",
    "\n",
    "Adicionar programa que se abre na linha de comando"
   ]
  },
  {
   "cell_type": "code",
   "execution_count": null,
   "metadata": {},
   "outputs": [],
   "source": [
    "!/usr/bin/gsettings set \\\n",
    "org.gnome.settings-daemon.plugins.media-keys.custom-keybinding:/org/gnome/settings-daemon/plugins/media-keys/custom-keybindings/custom0/ \\\n",
    "command \"'spotify'\""
   ]
  },
  {
   "cell_type": "markdown",
   "metadata": {},
   "source": [
    "<br>\n",
    "\n",
    "### Command\n",
    "\n",
    "Roda *command* bash com visualização"
   ]
  },
  {
   "cell_type": "code",
   "execution_count": null,
   "metadata": {},
   "outputs": [],
   "source": [
    "!/usr/bin/gsettings set \\\n",
    "org.gnome.settings-daemon.plugins.media-keys.custom-keybinding:/org/gnome/settings-daemon/plugins/media-keys/custom-keybindings/custom0/ \\\n",
    "command \"gnome-terminal -- bash -c 'echo Monkey; read line'\""
   ]
  },
  {
   "cell_type": "markdown",
   "metadata": {},
   "source": [
    "<br>\n",
    "\n",
    "### Python\n",
    "\n",
    "Roda *script* python sem visualização"
   ]
  },
  {
   "cell_type": "code",
   "execution_count": null,
   "metadata": {},
   "outputs": [],
   "source": [
    "!/usr/bin/gsettings \\\n",
    "set org.gnome.settings-daemon.plugins.media-keys.custom-keybinding:/org/gnome/settings-daemon/plugins/media-keys/custom-keybindings/custom0/ \\\n",
    "command \"gnome-terminal -- python3 $HOME/Codes/my_knowledge/linguagem/python/test.py\""
   ]
  },
  {
   "cell_type": "markdown",
   "metadata": {},
   "source": [
    "<br>\n",
    "\n",
    "Roda *script* python com visualização"
   ]
  },
  {
   "cell_type": "code",
   "execution_count": null,
   "metadata": {},
   "outputs": [],
   "source": [
    "!/usr/bin/gsettings \\\n",
    "set org.gnome.settings-daemon.plugins.media-keys.custom-keybinding:/org/gnome/settings-daemon/plugins/media-keys/custom-keybindings/custom0/ \\\n",
    "command \"gnome-terminal -- bash -c 'python3 $HOME/Codes/open_dsa/linguagem/python/src/test.py; read line'\""
   ]
  },
  {
   "cell_type": "markdown",
   "metadata": {},
   "source": [
    "<br>\n",
    "\n",
    "Jupyter Notebook, convert e roda"
   ]
  },
  {
   "cell_type": "code",
   "execution_count": null,
   "metadata": {},
   "outputs": [],
   "source": [
    "!/usr/bin/gsettings set \\\n",
    "org.gnome.settings-daemon.plugins.media-keys.custom-keybinding:/org/gnome/settings-daemon/plugins/media-keys/custom-keybindings/custom0/ \\\n",
    "command \"gnome-terminal -- bash -c '$HOME/Codes/open_dsa/linguagem/sh/convert_jn.sh $HOME/Codes/open_dsa/linguagem/python/test/plataform.ipynb; bash'\""
   ]
  },
  {
   "cell_type": "markdown",
   "metadata": {},
   "source": [
    "<br>\n",
    "\n",
    "## Meus Atalhos"
   ]
  },
  {
   "cell_type": "code",
   "execution_count": null,
   "metadata": {},
   "outputs": [],
   "source": [
    "!/usr/bin/gsettings get org.gnome.settings-daemon.plugins.media-keys custom-keybindings\n",
    "!/usr/bin/gsettings set org.gnome.settings-daemon.plugins.media-keys custom-keybindings \"['/org/gnome/settings-daemon/plugins/media-keys/custom-keybindings/custom0/', '/org/gnome/settings-daemon/plugins/media-keys/custom-keybindings/custom1/', '/org/gnome/settings-daemon/plugins/media-keys/custom-keybindings/custom2/']\""
   ]
  },
  {
   "cell_type": "markdown",
   "metadata": {},
   "source": [
    "<br>\n",
    "\n",
    "### Jupyter"
   ]
  },
  {
   "cell_type": "code",
   "execution_count": null,
   "metadata": {},
   "outputs": [],
   "source": [
    "!/usr/bin/gsettings set \\\n",
    "org.gnome.settings-daemon.plugins.media-keys.custom-keybinding:/org/gnome/settings-daemon/plugins/media-keys/custom-keybindings/custom0/ \\\n",
    "binding \"'<Super>j'\"\n",
    "\n",
    "!/usr/bin/gsettings set \\\n",
    "org.gnome.settings-daemon.plugins.media-keys.custom-keybinding:/org/gnome/settings-daemon/plugins/media-keys/custom-keybindings/custom0/ \\\n",
    "name \"'Jupyter'\"\n",
    "\n",
    "!/usr/bin/gsettings set \\\n",
    "org.gnome.settings-daemon.plugins.media-keys.custom-keybinding:/org/gnome/settings-daemon/plugins/media-keys/custom-keybindings/custom0/ \\\n",
    "command \"gnome-terminal -- bash -c '$HOME/Codes/open_dsa/linguagem/sh/open_jn.sh ; bash'\""
   ]
  },
  {
   "cell_type": "markdown",
   "metadata": {},
   "source": [
    "<br>\n",
    "\n",
    "### HotMilhas"
   ]
  },
  {
   "cell_type": "code",
   "execution_count": null,
   "metadata": {},
   "outputs": [],
   "source": [
    "!/usr/bin/gsettings set \\\n",
    "org.gnome.settings-daemon.plugins.media-keys.custom-keybinding:/org/gnome/settings-daemon/plugins/media-keys/custom-keybindings/custom1/ \\\n",
    "binding \"'<Super>k'\"\n",
    "\n",
    "!/usr/bin/gsettings set \\\n",
    "org.gnome.settings-daemon.plugins.media-keys.custom-keybinding:/org/gnome/settings-daemon/plugins/media-keys/custom-keybindings/custom1/ \\\n",
    "name \"'Hotmilhas'\"\n",
    "\n",
    "!/usr/bin/gsettings \\\n",
    "set org.gnome.settings-daemon.plugins.media-keys.custom-keybinding:/org/gnome/settings-daemon/plugins/media-keys/custom-keybindings/custom1/ \\\n",
    "command \"gnome-terminal -- bash -c 'source ~/Documents/Conda/etc/profile.d/conda.sh; conda activate pablocarreira-py39; python3 $HOME/Codes/open_cash/hotmilhas/src/run.py; read line'\""
   ]
  },
  {
   "cell_type": "markdown",
   "metadata": {},
   "source": [
    "<br>\n",
    "\n",
    "### Google Cloud"
   ]
  },
  {
   "cell_type": "code",
   "execution_count": null,
   "metadata": {},
   "outputs": [],
   "source": [
    "!/usr/bin/gsettings set \\\n",
    "org.gnome.settings-daemon.plugins.media-keys.custom-keybinding:/org/gnome/settings-daemon/plugins/media-keys/custom-keybindings/custom2/ \\\n",
    "binding \"'<Super>g'\"\n",
    "\n",
    "!/usr/bin/gsettings set \\\n",
    "org.gnome.settings-daemon.plugins.media-keys.custom-keybinding:/org/gnome/settings-daemon/plugins/media-keys/custom-keybindings/custom2/ \\\n",
    "name \"'Google Cloud'\"\n",
    "\n",
    "!/usr/bin/gsettings set \\\n",
    "org.gnome.settings-daemon.plugins.media-keys.custom-keybinding:/org/gnome/settings-daemon/plugins/media-keys/custom-keybindings/custom2/ \\\n",
    "command \"gnome-terminal -- bash -c '$HOME/Codes/open_dsa/linguagem/sh/google-drive-ocamlfuse.sh'\""
   ]
  },
  {
   "cell_type": "markdown",
   "metadata": {},
   "source": [
    "<br>\n",
    "\n",
    "# Reset"
   ]
  },
  {
   "cell_type": "code",
   "execution_count": null,
   "metadata": {},
   "outputs": [],
   "source": [
    "#dconf reset -f /org/gnome/settings-daemon/plugins/media-keys/"
   ]
  },
  {
   "cell_type": "code",
   "execution_count": null,
   "metadata": {},
   "outputs": [],
   "source": [
    "#!dconf dump /org/gnome/settings-daemon/plugins/media-keys/ > bkp.txt"
   ]
  },
  {
   "cell_type": "markdown",
   "metadata": {
    "pycharm": {
     "name": "#%% md\n"
    }
   },
   "source": [
    "<br>\n",
    "\n",
    "# Referências\n",
    "\n",
    "- https://bbs.archlinux.org/viewtopic.php?id=165485"
   ]
  }
 ],
 "metadata": {
  "interpreter": {
   "hash": "397a8db9a99587ebc9659e575e97c3dbc03b7cdbd9bc181d706cc19eab1087ed"
  },
  "kernelspec": {
   "display_name": "Python 3 (ipykernel)",
   "language": "python",
   "name": "python3"
  },
  "language_info": {
   "codemirror_mode": {
    "name": "ipython",
    "version": 3
   },
   "file_extension": ".py",
   "mimetype": "text/x-python",
   "name": "python",
   "nbconvert_exporter": "python",
   "pygments_lexer": "ipython3",
   "version": "3.9.7"
  },
  "toc-autonumbering": true
 },
 "nbformat": 4,
 "nbformat_minor": 4
}
