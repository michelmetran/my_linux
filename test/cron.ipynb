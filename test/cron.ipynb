{
 "cells": [
  {
   "cell_type": "markdown",
   "id": "2f67da6e-cf38-4a31-8cc8-a3aa55b58d75",
   "metadata": {},
   "source": [
    "\n",
    "<br>\n",
    "\n",
    "# Introdução\n",
    "\n",
    "\n",
    "[Agendamento de tarefas usando o crontab, o que acontecerá quando o computador for desligado durante esse período?](https://qastack.com.br/server/52335/job-scheduling-using-crontab-what-will-happen-when-computer-is-shutdown-during)"
   ]
  },
  {
   "cell_type": "code",
   "execution_count": null,
   "id": "528433a0-b6d3-43b7-98e0-43eccaa97ced",
   "metadata": {},
   "outputs": [],
   "source": []
  },
  {
   "cell_type": "code",
   "execution_count": null,
   "id": "1b38968c-2256-47ab-9e0c-e36ddb0195f8",
   "metadata": {},
   "outputs": [],
   "source": []
  },
  {
   "cell_type": "code",
   "execution_count": null,
   "id": "be3cc23f-2bc5-4bef-93ac-7aa319e15a24",
   "metadata": {},
   "outputs": [],
   "source": []
  },
  {
   "cell_type": "code",
   "execution_count": null,
   "id": "7c2c21ad-4d0f-4150-a77d-bc2a40dc335b",
   "metadata": {},
   "outputs": [],
   "source": []
  }
 ],
 "metadata": {
  "kernelspec": {
   "display_name": "Python [conda env:pablocarreira-py39] *",
   "language": "python",
   "name": "conda-env-pablocarreira-py39-py"
  },
  "language_info": {
   "codemirror_mode": {
    "name": "ipython",
    "version": 3
   },
   "file_extension": ".py",
   "mimetype": "text/x-python",
   "name": "python",
   "nbconvert_exporter": "python",
   "pygments_lexer": "ipython3",
   "version": "3.9.7"
  }
 },
 "nbformat": 4,
 "nbformat_minor": 5
}
